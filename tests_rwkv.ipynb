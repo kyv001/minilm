{
 "cells": [
  {
   "cell_type": "code",
   "execution_count": 1,
   "metadata": {},
   "outputs": [],
   "source": [
    "import torch\n",
    "import torch.nn.functional as F\n",
    "import modules_rwkv"
   ]
  },
  {
   "cell_type": "code",
   "execution_count": 2,
   "metadata": {},
   "outputs": [],
   "source": [
    "w = torch.rand((1024, 124)).to(\"cuda\")\n",
    "k = torch.rand((1024, 124)).to(\"cuda\")\n",
    "v = torch.rand((1024, 124)).to(\"cuda\")\n",
    "r = torch.rand((1024, 124)).to(\"cuda\")\n",
    "u = torch.rand(124).to(\"cuda\")"
   ]
  },
  {
   "cell_type": "code",
   "execution_count": 3,
   "metadata": {},
   "outputs": [],
   "source": [
    "#%%timeit\n",
    "\"\"\"\n",
    "S_t = u A_t + A_{t-1} + w_{t-1} A_{t-2} + w_{t-1} w_{t-2} A_{t-3} + ...\n",
    "\n",
    "[   1   x   1   ]xA_{t-1}\n",
    "[   1   xW_{t-1}]xA_{t-2}\n",
    "\n",
    "[0, 0] [W_{t-2}, W_{t-1}] A_{t-1}\n",
    "[0, 1] [W_{t-2}, W_{t-1}] A_{t-2}\n",
    "RWKV注意力，并行计算\n",
    "\"\"\"\n",
    "a = torch.einsum('...j,...k->...jk', k, v).to(\"cuda\")\n",
    "wkv = torch.sum(torch.prod(\n",
    "    torch.tril(\n",
    "        torch.ones((k.size(-2) - 1, k.size(-2) - 1)).to(\"cuda\"),\n",
    "        diagonal=-1\n",
    "    ).flip(-1).unsqueeze(-1).unsqueeze(-4) *\n",
    "    (w[..., :-1, :] - 1).unsqueeze(-3).repeat(1, k.size(-2) - 1, 1, 1) + 1,\n",
    "    dim=-2\n",
    ").unsqueeze(-2) * a[..., :-1, :, :].flip(-3), dim=-3) + u * a[..., -1, :, :]\n",
    "o1 = r @ wkv\n",
    "o1 = o1.view(w.shape)"
   ]
  },
  {
   "cell_type": "code",
   "execution_count": 4,
   "metadata": {},
   "outputs": [],
   "source": [
    "#%%timeit\n",
    "\"\"\"RWKV注意力，循环计算\"\"\"\n",
    "s = torch.zeros_like(u)\n",
    "for i in range(k.shape[-2]):\n",
    "    a = torch.einsum('...j,...k->...jk', k[..., i, :], v[..., i, :]).to(\"cuda\")\n",
    "    wkv = s + u * a\n",
    "    s = w[..., i, :].unsqueeze(-2) * s + a\n",
    "o2 = r @ wkv\n",
    "o2 = o2.view(w.shape)"
   ]
  },
  {
   "cell_type": "code",
   "execution_count": 5,
   "metadata": {},
   "outputs": [
    {
     "data": {
      "text/plain": [
       "torch.Size([1024, 124])"
      ]
     },
     "execution_count": 5,
     "metadata": {},
     "output_type": "execute_result"
    }
   ],
   "source": [
    "o1.shape"
   ]
  },
  {
   "cell_type": "code",
   "execution_count": 6,
   "metadata": {},
   "outputs": [
    {
     "data": {
      "text/plain": [
       "torch.Size([1024, 124])"
      ]
     },
     "execution_count": 6,
     "metadata": {},
     "output_type": "execute_result"
    }
   ],
   "source": [
    "o2.shape"
   ]
  },
  {
   "cell_type": "code",
   "execution_count": 7,
   "metadata": {},
   "outputs": [
    {
     "data": {
      "text/plain": [
       "tensor(True, device='cuda:0')"
      ]
     },
     "execution_count": 7,
     "metadata": {},
     "output_type": "execute_result"
    }
   ],
   "source": [
    "(o1 - o2).max() < 1e-4 # 确保不同方式计算结果一致"
   ]
  },
  {
   "cell_type": "code",
   "execution_count": 8,
   "metadata": {},
   "outputs": [
    {
     "data": {
      "text/plain": [
       "torch.Size([1024, 124])"
      ]
     },
     "execution_count": 8,
     "metadata": {},
     "output_type": "execute_result"
    }
   ],
   "source": [
    "from modules_rwkv import *\n",
    "\n",
    "wkv = WKV(124).to('cuda:0')\n",
    "wkv(r, w, k ,v).shape"
   ]
  },
  {
   "cell_type": "code",
   "execution_count": 9,
   "metadata": {},
   "outputs": [],
   "source": [
    "model = RWKV(10, 10, 5, 2, 2)"
   ]
  },
  {
   "cell_type": "code",
   "execution_count": null,
   "metadata": {},
   "outputs": [],
   "source": []
  }
 ],
 "metadata": {
  "kernelspec": {
   "display_name": "venv",
   "language": "python",
   "name": "python3"
  },
  "language_info": {
   "codemirror_mode": {
    "name": "ipython",
    "version": 3
   },
   "file_extension": ".py",
   "mimetype": "text/x-python",
   "name": "python",
   "nbconvert_exporter": "python",
   "pygments_lexer": "ipython3",
   "version": "3.9.19"
  }
 },
 "nbformat": 4,
 "nbformat_minor": 2
}
