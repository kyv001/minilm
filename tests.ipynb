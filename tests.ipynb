{
 "cells": [
  {
   "cell_type": "code",
   "execution_count": 1,
   "metadata": {},
   "outputs": [],
   "source": [
    "import torch\n",
    "from torch.nn import functional as F\n",
    "from config import *\n",
    "from encoder import Encoder\n",
    "from modules_rwkv import LLM"
   ]
  },
  {
   "cell_type": "code",
   "execution_count": 2,
   "metadata": {},
   "outputs": [],
   "source": [
    "def get_loss_lr(log_file):\n",
    "    with open(log_file) as f:\n",
    "        lines = f.readlines()\n",
    "\n",
    "    losses = []\n",
    "    lrs = []\n",
    "    for line in lines:\n",
    "        step = int(line.split()[0][4:-1])\n",
    "        loss = float(line.split()[1][5:])\n",
    "        lr = float(line.split()[3][3:])\n",
    "        if len(losses) > step - 1:\n",
    "            losses[step - 1] = loss\n",
    "            lrs[step - 1] = lr\n",
    "        else:\n",
    "            losses.append(loss)\n",
    "            lrs.append(lr)\n",
    "    return losses, lrs"
   ]
  },
  {
   "cell_type": "code",
   "execution_count": 3,
   "metadata": {},
   "outputs": [],
   "source": [
    "import matplotlib.pyplot as plt"
   ]
  },
  {
   "cell_type": "code",
   "execution_count": 4,
   "metadata": {},
   "outputs": [],
   "source": [
    "from dataloader import BinaryDataset, collate_fn\n",
    "from torch.utils.data import DataLoader\n",
    "\n",
    "loader = DataLoader(\n",
    "    BinaryDataset(\"part-2021278643.json.bin\", MAX_LENGTH),\n",
    "    batch_size=1,\n",
    "    shuffle=False,\n",
    "    num_workers=1,\n",
    "    collate_fn=collate_fn\n",
    ")\n",
    "encoder = Encoder.from_path(\"encoder.json\")"
   ]
  },
  {
   "cell_type": "code",
   "execution_count": 5,
   "metadata": {},
   "outputs": [],
   "source": [
    "llm = LLM(encoder.vocab_size, MODEL_DIM, LORA_DIM, N_BLOCKS, N_HEADS).to(\"cuda\")"
   ]
  },
  {
   "cell_type": "code",
   "execution_count": 6,
   "metadata": {},
   "outputs": [],
   "source": [
    "length = 256\n",
    "for x, y, n_tokens in loader:\n",
    "    x = x.to(\"cuda\")[:, :length, ...]\n",
    "    y = y.to(\"cuda\")[:, :length, ...]\n",
    "    break"
   ]
  },
  {
   "cell_type": "code",
   "execution_count": 7,
   "metadata": {},
   "outputs": [
    {
     "name": "stdout",
     "output_type": "stream",
     "text": [
      "60840576 parameters.\n"
     ]
    }
   ],
   "source": [
    "print(f\"{sum(para.numel() for para in llm.parameters())} parameters.\")\n",
    "torch.set_float32_matmul_precision('high')\n",
    "logits, state = llm(x)\n",
    "loss = F.cross_entropy(logits.contiguous().view(-1, logits.size(-1)), y.contiguous().view(-1), reduction='mean', ignore_index=0)"
   ]
  },
  {
   "cell_type": "code",
   "execution_count": 8,
   "metadata": {},
   "outputs": [
    {
     "name": "stdout",
     "output_type": "stream",
     "text": [
      "重庆通报3起违反中央八项规定精神问题：央广网重庆1月31日消息(记者吴新伟)重庆市纪委监察委官微\"风正巴渝\"今披露,该市近日通报3起违反中央八项规定精神问题。据通报,重庆长寿化工有限责任公司党委委员、董事、副总经理李文成违规发放津补贴。2013年4月至2017年11月,李文成违规以节日津补贴等名义向公司办公室职工发放11万余元,其中本人违规领取3.2万余元。2018年7月,李文成受到党内严重警告处分、扣减2017年全部绩效年薪处理；违纪款项已清退。垫江县原卫生和计划生育委员会党委书记、主任刘卫东违规收受礼金\n",
      "庆通报3起违反中央八项规定精神问题：央广网重庆1月31日消息(记者吴新伟)重庆市纪委监察委官微\"风正巴渝\"今披露,该市近日通报3起违反中央八项规定精神问题。据通报,重庆长寿化工有限责任公司党委委员、董事、副总经理李文成违规发放津补贴。2013年4月至2017年11月,李文成违规以节日津补贴等名义向公司办公室职工发放11万余元,其中本人违规领取3.2万余元。2018年7月,李文成受到党内严重警告处分、扣减2017年全部绩效年薪处理；违纪款项已清退。垫江县原卫生和计划生育委员会党委书记、主任刘卫东违规收受礼金问\n",
      "\n"
     ]
    }
   ],
   "source": [
    "out = logits[0].argmax(dim=-1).tolist()[MAX_LENGTH - length:]\n",
    "print(encoder.decode(x[0].tolist()))\n",
    "print(encoder.decode(y[0].tolist()))\n",
    "print(encoder.decode(out))"
   ]
  },
  {
   "cell_type": "code",
   "execution_count": 9,
   "metadata": {},
   "outputs": [
    {
     "name": "stdout",
     "output_type": "stream",
     "text": [
      "torch.Size([1, 96, 768])\n"
     ]
    }
   ],
   "source": [
    "print(state[0].shape)"
   ]
  },
  {
   "cell_type": "code",
   "execution_count": 10,
   "metadata": {},
   "outputs": [],
   "source": [
    "loss.backward()"
   ]
  }
 ],
 "metadata": {
  "kernelspec": {
   "display_name": "venv",
   "language": "python",
   "name": "python3"
  },
  "language_info": {
   "codemirror_mode": {
    "name": "ipython",
    "version": 3
   },
   "file_extension": ".py",
   "mimetype": "text/x-python",
   "name": "python",
   "nbconvert_exporter": "python",
   "pygments_lexer": "ipython3",
   "version": "3.9.19"
  }
 },
 "nbformat": 4,
 "nbformat_minor": 2
}
