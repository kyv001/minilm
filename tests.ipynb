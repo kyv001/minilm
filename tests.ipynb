{
 "cells": [
  {
   "cell_type": "code",
   "execution_count": 1,
   "metadata": {},
   "outputs": [],
   "source": [
    "import torch\n",
    "from torch.nn import functional as F\n",
    "from config import *\n",
    "from encoder import Encoder\n",
    "from modules_rwkv import LLM"
   ]
  },
  {
   "cell_type": "code",
   "execution_count": 2,
   "metadata": {},
   "outputs": [],
   "source": [
    "def get_loss_lr(log_file):\n",
    "    with open(log_file) as f:\n",
    "        lines = f.readlines()\n",
    "\n",
    "    losses = []\n",
    "    lrs = []\n",
    "    for line in lines:\n",
    "        step = int(line.split()[0][4:-1])\n",
    "        loss = float(line.split()[1][5:])\n",
    "        lr = float(line.split()[3][3:])\n",
    "        if len(losses) > step - 1:\n",
    "            losses[step - 1] = loss\n",
    "            lrs[step - 1] = lr\n",
    "        else:\n",
    "            losses.append(loss)\n",
    "            lrs.append(lr)\n",
    "    return losses, lrs"
   ]
  },
  {
   "cell_type": "code",
   "execution_count": 3,
   "metadata": {},
   "outputs": [],
   "source": [
    "import matplotlib.pyplot as plt"
   ]
  },
  {
   "cell_type": "code",
   "execution_count": 4,
   "metadata": {},
   "outputs": [],
   "source": [
    "from dataloader import BinaryDataset, collate_fn\n",
    "from torch.utils.data import DataLoader\n",
    "\n",
    "loader = DataLoader(\n",
    "    BinaryDataset(\"part-2021278643.json.bin\", MAX_LENGTH),\n",
    "    batch_size=1,\n",
    "    shuffle=False,\n",
    "    num_workers=1,\n",
    "    collate_fn=collate_fn\n",
    ")\n",
    "encoder = Encoder.from_path(\"encoder.json\")"
   ]
  },
  {
   "cell_type": "code",
   "execution_count": 5,
   "metadata": {},
   "outputs": [],
   "source": [
    "llm = LLM(encoder.vocab_size, MODEL_DIM, LORA_DIM, N_BLOCKS, N_HEADS)"
   ]
  },
  {
   "cell_type": "code",
   "execution_count": 6,
   "metadata": {},
   "outputs": [],
   "source": [
    "length = MAX_LENGTH\n",
    "for x, y, n_tokens in loader:\n",
    "    x = x[:, :length, ...]\n",
    "    y = y[:, :length, ...]\n",
    "    break"
   ]
  },
  {
   "cell_type": "code",
   "execution_count": 7,
   "metadata": {},
   "outputs": [
    {
     "name": "stdout",
     "output_type": "stream",
     "text": [
      "73.35M parameters.\n",
      "tensor(8.7561, device='cuda:0', grad_fn=<NllLossBackward0>)\n"
     ]
    }
   ],
   "source": [
    "print(f\"{sum(para.numel() for para in llm.parameters()) / 1e6:.2f}M parameters.\")\n",
    "torch.set_float32_matmul_precision('high')\n",
    "logits, state = llm(x)\n",
    "loss = F.cross_entropy(logits.reshape(-1, logits.size(-1)), y.reshape(-1), reduction='mean', ignore_index=0)\n",
    "print(loss)"
   ]
  },
  {
   "cell_type": "code",
   "execution_count": 8,
   "metadata": {},
   "outputs": [
    {
     "name": "stdout",
     "output_type": "stream",
     "text": [
      "\n"
     ]
    }
   ],
   "source": [
    "out = logits[0].argmax(dim=-1).tolist()[MAX_LENGTH - length:]\n",
    "print(encoder.decode(out))"
   ]
  },
  {
   "cell_type": "code",
   "execution_count": 9,
   "metadata": {},
   "outputs": [],
   "source": [
    "loss.backward()"
   ]
  }
 ],
 "metadata": {
  "kernelspec": {
   "display_name": "venv",
   "language": "python",
   "name": "python3"
  },
  "language_info": {
   "codemirror_mode": {
    "name": "ipython",
    "version": 3
   },
   "file_extension": ".py",
   "mimetype": "text/x-python",
   "name": "python",
   "nbconvert_exporter": "python",
   "pygments_lexer": "ipython3",
   "version": "3.9.19"
  }
 },
 "nbformat": 4,
 "nbformat_minor": 2
}
